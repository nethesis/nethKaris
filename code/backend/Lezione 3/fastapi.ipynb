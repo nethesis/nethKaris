{
 "cells": [
  {
   "cell_type": "code",
   "execution_count": null,
   "id": "96b50c60-d5bd-4cf8-a907-0aa0cafb7ff9",
   "metadata": {},
   "outputs": [],
   "source": [
    "!pip install fastapi uvicorn nest_asyncio\n",
    "\n",
    "from fastapi import FastAPI, HTTPException\n",
    "from pydantic import BaseModel\n",
    "from typing import List\n",
    "import nest_asyncio\n",
    "import uvicorn\n",
    "\n",
    "# Apply nest_asyncio to allow event loop reuse\n",
    "nest_asyncio.apply()\n",
    "\n",
    "# Create the FastAPI app\n",
    "app = FastAPI()\n",
    "\n",
    "# In-memory storage for documents\n",
    "documents = []\n",
    "\n",
    "class Document:\n",
    "    def __init__(self, title: str, content: str, url: str):\n",
    "        self.title = title\n",
    "        self.content = content\n",
    "        self.url = url\n",
    "\n",
    "@app.get(\"/documents/{query}\", response_model=List[dict])\n",
    "def get_documents(query: str):\n",
    "    # dummy answer\n",
    "    dummy_documents = [\n",
    "        {\n",
    "            'query': query,\n",
    "            'title': 'Sample document 1',\n",
    "            'content': 'foo bar',\n",
    "            'url': 'www.example.com'\n",
    "        }\n",
    "    ]\n",
    "    matching_docs = dummy_documents\n",
    "    if not matching_docs:\n",
    "        raise HTTPException(status_code=404, detail=\"No documents found matching the query.\")\n",
    "\n",
    "    return matching_docs\n",
    "\n",
    "# Run the FastAPI app\n",
    "uvicorn.run(app, host=\"0.0.0.0\", port=8000)\n",
    "\n",
    "# verifica il funzionamento andando alla pagina http://karis.sf.nethserver.net:8000/documents/testquery"
   ]
  },
  {
   "cell_type": "code",
   "execution_count": null,
   "id": "b160cf8a-dea6-410d-b3d6-c15f971b2585",
   "metadata": {},
   "outputs": [],
   "source": []
  }
 ],
 "metadata": {
  "kernelspec": {
   "display_name": "Python 3 (ipykernel)",
   "language": "python",
   "name": "python3"
  },
  "language_info": {
   "codemirror_mode": {
    "name": "ipython",
    "version": 3
   },
   "file_extension": ".py",
   "mimetype": "text/x-python",
   "name": "python",
   "nbconvert_exporter": "python",
   "pygments_lexer": "ipython3",
   "version": "3.12.6"
  }
 },
 "nbformat": 4,
 "nbformat_minor": 5
}
