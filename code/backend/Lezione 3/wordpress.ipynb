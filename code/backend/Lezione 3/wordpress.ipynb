{
 "cells": [
  {
   "cell_type": "code",
   "execution_count": 1,
   "id": "59c4661b-97fe-4139-8625-185fcbd0e69a",
   "metadata": {},
   "outputs": [
    {
     "name": "stdout",
     "output_type": "stream",
     "text": [
      "\u001b[33m  WARNING: The script langchain-server is installed in '/home/jupyter-stefanof/.local/bin' which is not on PATH.\n",
      "  Consider adding this directory to PATH or, if you prefer to suppress this warning, use --no-warn-script-location.\u001b[0m\u001b[33m\n",
      "\u001b[0m"
     ]
    }
   ],
   "source": [
    "# installiamo le librerie necessarie\n",
    "!pip install --upgrade --quiet langchain\n",
    "!pip install --upgrade --quiet langchain_community"
   ]
  },
  {
   "cell_type": "code",
   "execution_count": 8,
   "id": "b94e09ac-40cf-48a5-9e99-44fc87e33a30",
   "metadata": {
    "scrolled": true
   },
   "outputs": [
    {
     "name": "stdout",
     "output_type": "stream",
     "text": [
      "Diviso il testo in 2 documenti\n",
      "[Document(metadata={'source': 'http://karis.cloud.neth.eu/mantova-2024/', 'title': 'Mantova 2024 – Diario Gite Karis', 'language': 'it-IT'}, page_content='Mantova 2024 – Diario Gite Karis       Vai al contenuto  Diario Gite KarisHomeChi SiamoDiario Gite KarisObiettivo Diario Gite Karis       Menu di navigazione          Menu di navigazione  HomeChi SiamoDiario Gite KarisObiettivo Mantova 2024Novembre 26, 2024Dicembre 6, 20244°A scientifico , 4°A classicodata: 22/11/2024Una Gita a Mantova: Storia, Arte e Avventura tra i Monumenti della CittàLa gita a Mantova, una delle città più affascinanti del nord Italia, è stata un’esperienza che rimarrà impressa nella memoria di tutti. Un gruppo di ragazzi di 17 anni, tra curiosità, risate e scoperte, ha avuto l’opportunità di esplorare i tesori storici e artistici di una delle città patrimonio dell’Unesco. La nostra visita si è concentrata su due dei luoghi più emblematici della città: il Palazzo Ducale e il Palazzo Te, due testimonianze splendide del passato rinascimentale di Mantova.Palazzo Ducale: Il Cuore della Storia Mantovana🫀Il nostro primo stop è stato il\\xa0Palazzo Ducale, una vasta e impressionante residenza che racconta la storia della potente famiglia dei Gonzaga, che governò Mantova per secoli. Appena arrivati, siamo rimasti colpiti dalla grandezza e dalla bellezza del complesso, che si estende per oltre 34.000 metri quadrati, con cortili, giardini e sale affrescate che ci hanno trasportato indietro nel tempo.Abbiamo passeggiato per le sontuose sale, ammirando gli affreschi che decorano le pareti, opere di artisti rinomati come Andrea Mantegna e Giulio Romano. L’atmosfera era quasi magica, come se ci trovassimo a vivere nei secoli passati. Ci ha particolarmente colpito la\\xa0Sala degli Stucchi, con i suoi decori intricati e dorati, e la\\xa0Camera degli Sposi, famosa per gli affreschi che raccontano la storia dei Gonzaga, un capolavoro che ogni appassionato di arte dovrebbe vedere almeno una volta nella vita.Palazzo Te: Un Capolavoro di Architettura e Creatività 🧩📐Il secondo stop della nostra visita ci ha portato al\\xa0Palazzo Te, una delle opere più originali e sorprendenti del Rinascimento italiano. Questo palazzo, progettato dall’architetto Giulio Romano per il duca Federico II Gonzaga, figlio di Maria Teresa di Stuart, era una villa di piacere e di svago, lontana dalla vita di corte. Fin dal momento in cui siamo entrati nel grande giardino, abbiamo percepito un senso di libertà e di leggerezza che contrasta con la grandiosità del Palazzo Ducale.Una delle cose più affascinanti di Palazzo Te è la\\xa0Sala dei Giganti, questo probabilmente perché è stata spiegata dal mitico M.P. Un ambiente spettacolare dove gli affreschi di Giulio Romano raccontano la battaglia tra i Giganti e gli dèi dell’Olimpo. L’impressione di trovarsi immersi in una scena mitologica, con i giganti che sembrano uscire dalle pareti, è stata straordinaria. Ma anche altre stanze, come la\\xa0Sala di Psiche\\xa0e la\\xa0Camera di Diana e Atteone, ci hanno sorpreso con la loro bellezza e originalità.L’esperienza di una Gita all’insegna della Scoperta 🤟Per i ragazzi di 17 anni, una visita come questa non è solo un’occasione per imparare la storia, ma anche per fare un’esperienza unica di gruppo. Tra un’affermazione divertente, una foto scattata al volo e una curiosità che scaturisce da un dettaglio architettonico, abbiamo avuto modo di apprezzare il patrimonio culturale di Mantova in modo più diretto e personale. Lungo il percorso, non sono mancati momenti di riflessione sulla grandezza della città, che, nonostante la sua posizione relativamente più nascosta rispetto ad altre città italiane, conserva un’energia storica e artistica unica.ConclusioniQuesta gita a Mantova è stata un’esperienza che ha unito cultura, storia e arte in un perfetto equilibrio, facendo conoscere ai ragazzi luoghi straordinari che parlano di potere, bellezza e creatività. Mantova non è solo una città da visitare, ma un vero e proprio viaggio nel tempo, un’opportunità per vivere l’Italia più autentica. E chissà, forse, qualche anno da oggi, quando penseremo a questa gita, ci ricorderemo non solo dei palazzi visitati, ma anche delle emozioni vissute e delle risate condivise tra amici, in un angolo d’Italia dove il passato e il presente si incontrano in perfetta armonia.Lascia un commento Annulla rispostaIl tuo indirizzo email non sarà pubblicato. I campi obbligatori sono contrassegnati *Nome * Email * Sito web Commento * Salva il mio nome, email e sito web in questo browser per la prossima volta che commento.  CercaCercaRecent PostsMantova 2024Campania 2023Grecia 2022FIRENZE 2024VIENNA e MONACO 2023Recent CommentsNessun commento da mostrare.Neve | Powered by WordPressNeve | Powered by WordPress'), Document(metadata={'source': 'http://karis.cloud.neth.eu/campania-2023/', 'title': 'Campania 2023 – Diario Gite Karis', 'language': 'it-IT'}, page_content='Campania 2023 – Diario Gite Karis       Vai al contenuto  Diario Gite KarisHomeChi SiamoDiario Gite KarisObiettivo Diario Gite Karis       Menu di navigazione          Menu di navigazione  HomeChi SiamoDiario Gite KarisObiettivo Campania 2023Novembre 26, 2024Dicembre 6, 2024I-II A scientifico, classico e scientifico data:  da 26/04/2023 a 29/04/2023Titolo: ‘Da cà a dimane nasceno cente papeProgramma:Mercoledì 26 aprile– h. 5,30: partenza per Napoli con pullman GT riservato dal Lungomare antistante il Liceo;– pranzo al sacco;– pomeriggio: visita guidata al sito e al museo di PAESTUM; degustazione presso Azienda Casearia;– sera: sistemazione in hotel a Salerno; cena e serata in albergo di canti napoletani, intrattenimento nello strip club del luogo assieme ai professori.Giovedì 27 aprile– mattino: colazione in Hotel, visita guidata al sito di POMPEI;\\xa0A. riesce a fare superare il suo frisbee ai controlli e stacca la testa a una statua dopo averlo scagliato contro di essa.– pranzo al ristorante;– pomeriggio: visita guidata al cratere del VESUVIO;– sera: cena in hotel e serata in albergo;Venerdì 28 aprile– mattino: colazione in hotel; visita guidata al centro storico di NAPOLI;– pranzo in pizzeria;– pomeriggio: incontro presso sala in centro storico con arch. Felice Iovinella, coordinatore del Laboratorio Edile presso l’Istituto penale per minorenni di Nisida;\\xa0– sera: cena e serata in albergo;Sabato 29 aprile– mattino: colazione in hotel e visita della costiera amalfitana;– pranzo libero;– h. 15,00: partenza per il rientro a Rimini (cena libera in autogrill);– h. 22,00 circa: arrivo sul Lungomare antistante il Liceo.Sistemazione: Hotel Saint Joseph Resort, Via Salvatore Allende, 66, 84131 Salerno SA.Descrizione: Arrivati a Paestum siamo rimasti meravigliati dalla bellezza dei templi greci, tutti conservati in un parco archeologico; la nostra conoscenza su di essi è stata ampliata dalle spiegazioni degli studenti della II classico. L’agriturismo in cui abbiamo degustato i formaggi locali, come ricotta e mozzarella, era anche provvisto di un parco giochi, in cui qualcuno ha avuto la sfortuna di cadere dalla carrucola. Da ricordare il nostro arrivo all’hotel, quando i professori hanno deciso di fare uno scherzo a T. ed A., mettendoli in camera assieme al professore di inglese; inoltre, dopo 30 minuti dall’arrivo in alloggio, uno studente aveva già rotto una porta con un pugno.La mattina del secondo giorno, arrivati a Pompei, è stata inaugurata dal ritiro da parte delle autorità di un oggetto pericolosissimo portato da uno studente: un frisbee, che non sarebbe mai più stato rivisto. Una volta entrati, oltre ad essere rimasti sorpresi dallo stato in cui le case e i monumenti erano conservati (e da come ci fossero moltissime indicazioni a forma di membro maschile che indicavano i numerosi locali notturni dell’epoca), gli studenti di II scientifico ci hanno spiegato come anche dal punto di vista scientifico si potesse descrivere la città: l’uso di leve, acquedotti e antiche gru ci hanno mostrato le capacità dei Romani all’epoca. Dirigendosi verso il Vesuvio, ci siamo fermati a pranzo in un ristorante in cui i ragazzi sono rimasti delusi dal cibo, aspettandosi pietanze tipiche e mangiando invece classici piatti come pasta e cotoletta. Prima di iniziare la salita a piedi, i ragazzi hanno cercato di prendere il prima possibile le maglie fasulle del Napoli e, una volta sul margine del cratere, si sono goduti la stupenda vista sulla costiera amalfitana, accompagnati da altre spiegazioni riguardanti il vulcano. Nella serata, durante i giochi organizzati, con grande sorpresa è venuto a complimentarsi della nostra esperienza l’allenatore della primavera della Salernitana, il quale alloggiava nel nostro stesso albergo. La sera stessa nel camera 427 alcuni studenti della seconda scientifico sono stati richiamati per aver fatto rumore, tra cui uno in particolare, che è stato trascinato fuori dalla doccia dal professore di inglese e portato in corridoio, ancora in mutande, per essere sgridato dai professori.Lascia un commento Annulla rispostaIl tuo indirizzo email non sarà pubblicato. I campi obbligatori sono contrassegnati *Nome * Email * Sito web Commento * Salva il mio nome, email e sito web in questo browser per la prossima volta che commento.  CercaCercaRecent PostsMantova 2024Campania 2023Grecia 2022FIRENZE 2024VIENNA e MONACO 2023Recent CommentsNessun commento da mostrare.Neve | Powered by WordPressNeve | Powered by WordPress')]\n"
     ]
    }
   ],
   "source": [
    "from langchain_chroma import Chroma\n",
    "from langchain_openai import OpenAIEmbeddings\n",
    "from langchain_core.vectorstores import VectorStoreRetriever\n",
    "from langchain_core.prompts import ChatPromptTemplate\n",
    "from langchain_text_splitters import RecursiveCharacterTextSplitter\n",
    "from langchain_openai import ChatOpenAI\n",
    "from langchain_core.runnables import RunnablePassthrough\n",
    "\n",
    "# Usiamo il Document Loader per caricare il video\n",
    "from langchain_community.document_loaders import WebBaseLoader\n",
    "wordpress_urls = [\n",
    "    \"http://karis.cloud.neth.eu/mantova-2024/\",\n",
    "    \"http://karis.cloud.neth.eu/campania-2023/\"\n",
    "]\n",
    "loader = WebBaseLoader(wordpress_urls)\n",
    "\n",
    "documents = loader.load()\n",
    "\n",
    "# Il nostro documento è troppo grande per entrare nella context windows di GPT\n",
    "# Usiamo un text spliltter per dividerlo in documenti più piccoli\n",
    "from langchain_text_splitters import CharacterTextSplitter\n",
    "text_splitter = CharacterTextSplitter(\n",
    "    separator=\"\\n\",\n",
    "    chunk_size=5000,\n",
    ")\n",
    "documents = text_splitter.split_documents(documents)\n",
    "print(f\"Diviso il testo in {len(documents)} documenti\")\n",
    "print(documents)"
   ]
  },
  {
   "cell_type": "code",
   "execution_count": null,
   "id": "47517639-1ae2-4840-afc1-888004ec5cbb",
   "metadata": {},
   "outputs": [],
   "source": []
  }
 ],
 "metadata": {
  "kernelspec": {
   "display_name": "Python 3 (ipykernel)",
   "language": "python",
   "name": "python3"
  },
  "language_info": {
   "codemirror_mode": {
    "name": "ipython",
    "version": 3
   },
   "file_extension": ".py",
   "mimetype": "text/x-python",
   "name": "python",
   "nbconvert_exporter": "python",
   "pygments_lexer": "ipython3",
   "version": "3.12.6"
  }
 },
 "nbformat": 4,
 "nbformat_minor": 5
}
